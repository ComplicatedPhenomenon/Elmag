{
 "cells": [
  {
   "cell_type": "markdown",
   "metadata": {},
   "source": [
    "Reference\n",
    "[https://nbviewer.jupyter.org/github/me-manu/myElmag202/blob/master/example.ipynb](https://nbviewer.jupyter.org/github/me-manu/myElmag202/blob/master/example.ipynb)"
   ]
  },
  {
   "cell_type": "code",
   "execution_count": 1,
   "metadata": {},
   "outputs": [],
   "source": [
    "config = {\n",
    "    \"model\":          6, # EBL model, model 6 = Dominguez et al. (2011) model\n",
    "    \"ethr\":           1e+8, # Energy threshold in eV below which the cascade energy losses are integrated out\n",
    "    \"egmax\":          10e+12, # Maximum energy in eV for the injected gamma rays\n",
    "    \"ir_rescale\":     1.00, # Rescaling of the EBL photon density\n",
    "    \"cohlnth\":        1.00, # Coherence length of the IGMF in Mpc\n",
    "    \"th_jet\":       1.00, # Jet opening angle in degrees\n",
    "    \"igmf\":           1e-12, # IGMF strength in G. Note that at the moment it's not changing with z\n",
    "    \"emin\":           1.e+8, # Minimum energy in eV of the injected photons\n",
    "    \"ebreak\":         1.e+13, # Break energy in eV in case you want to model a broken power law (BPL)\n",
    "    \"gam1\":           -1.7, # Spectral index below Ebreak as in dN / dE ~ E^gam1\n",
    "    \"gam2\":           -1.7, # Spectral index above Ebreak as in dN / dE ~ E^gam2\n",
    "    \"iseed\":           0, # Seed for the random number generation, must be an integer\n",
    "    \"tabledir\":\t      \"Tables/\" #path to the EBL tables provided within Elmag\n",
    "    }"
   ]
  },
  {
   "cell_type": "markdown",
   "metadata": {},
   "source": [
    "A snippet code from subroutine user_output\n",
    "```\n",
    "     write(31,*) real(ethr*(egmax/ethr)**((i-.5d0)/(n_bin-1))), &\n",
    "          real(spec_tot(i,0)),real(spec_tot(i,1))\n",
    "     write(32,*) real(ethr*(egmax/ethr)**((i-.5d0)/(n_bin-1))), &\n",
    "          real(gam_th_tot(i,1)),real(gam_th_tot(i,2))\n",
    "     write(33,*) real(ethr*(egmax/ethr)**((i-.5d0)/(n_bin-1))), &\n",
    "          real(spec_t_tot(i,:))\n",
    "     write(34,*) real(ethr*(egmax/ethr)**((i-.5d0)/(n_bin-1))), &\n",
    "          real(cum_t(i,:))\n",
    "```"
   ]
  },
  {
   "cell_type": "code",
   "execution_count": null,
   "metadata": {},
   "outputs": [],
   "source": []
  }
 ],
 "metadata": {
  "kernelspec": {
   "display_name": "Python 3",
   "language": "python",
   "name": "python3"
  },
  "language_info": {
   "codemirror_mode": {
    "name": "ipython",
    "version": 3
   },
   "file_extension": ".py",
   "mimetype": "text/x-python",
   "name": "python",
   "nbconvert_exporter": "python",
   "pygments_lexer": "ipython3",
   "version": "3.6.5"
  }
 },
 "nbformat": 4,
 "nbformat_minor": 2
}
